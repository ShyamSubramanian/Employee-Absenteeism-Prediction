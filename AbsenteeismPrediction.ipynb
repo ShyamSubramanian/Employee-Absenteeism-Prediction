{
 "cells": [
  {
   "cell_type": "code",
   "execution_count": 67,
   "metadata": {},
   "outputs": [],
   "source": [
    "import sys\n",
    "sys.path.append(\"C:\\\\Users\\\\Shyam\\\\AppData\\\\Local\\\\Programs\\\\Python\\\\Python36\\\\lib\\\\site-packages\")\n",
    "sys.path.append(r'D:\\shyam\\graphviz-2.38\\release\\bin')\n",
    "import os\n",
    "os.environ[\"PATH\"] += os.pathsep + r'D:\\shyam\\graphviz-2.38\\release\\bin'\n",
    "import warnings\n",
    "warnings.filterwarnings('ignore')"
   ]
  },
  {
   "cell_type": "code",
   "execution_count": 433,
   "metadata": {},
   "outputs": [],
   "source": [
    "from sklearn import tree\n",
    "from sklearn.metrics import confusion_matrix\n",
    "from sklearn.cross_validation import cross_val_score\n",
    "from sklearn.cross_validation import cross_val_predict\n",
    "import numpy as np\n",
    "import pandas as pd\n",
    "import graphviz\n",
    "from sklearn.metrics import precision_score\n",
    "from sklearn.metrics import recall_score\n",
    "from sklearn.metrics import roc_auc_score\n",
    "from sklearn.metrics import roc_curve\n",
    "import time"
   ]
  },
  {
   "cell_type": "code",
   "execution_count": 434,
   "metadata": {},
   "outputs": [],
   "source": [
    "def discretizeAttr(attr,bins):\n",
    "    attr = pd.qcut(attr,bins,duplicates='drop')\n",
    "    return attr.astype(str)"
   ]
  },
  {
   "cell_type": "code",
   "execution_count": 435,
   "metadata": {},
   "outputs": [],
   "source": [
    "from sklearn.preprocessing import OneHotEncoder\n",
    "def oneHotEncodeRFA(attr,absenteeism):\n",
    "    enc = OneHotEncoder(handle_unknown='ignore')\n",
    "    list_rfa = []\n",
    "    for index,row in absenteeism.iterrows():\n",
    "        list_rfa.append((row['Reason_for_absence'],row['Reason_for_absence']))\n",
    "    list_rfa_fit = [[0, 0], [1, 1], [2, 2],[3,3],[4,4]]\n",
    "    enc.fit(list_rfa_fit)\n",
    "    encoded = enc.transform(list_rfa).toarray()[:, 0:5]\n",
    "    absenteeism['RFA0'] = encoded[:, [0]]\n",
    "    absenteeism['RFA1'] = encoded[:, [1]]\n",
    "    absenteeism['RFA2'] = encoded[:, [2]]\n",
    "    absenteeism['RFA3'] = encoded[:, [3]]\n",
    "    absenteeism['RFA4'] = encoded[:, [4]]\n",
    "    absenteeism_new = absenteeism.drop('Reason_for_absence',1)\n",
    "    absenteeism_new = absenteeism_new.drop('Absenteeism_time_in_hours',1)\n",
    "    absenteeism_new['Absenteeism_time_in_hours'] = absenteeism['Absenteeism_time_in_hours']\n",
    "    return absenteeism_new"
   ]
  },
  {
   "cell_type": "code",
   "execution_count": 436,
   "metadata": {},
   "outputs": [],
   "source": [
    "from sklearn.preprocessing import StandardScaler\n",
    "from sklearn.decomposition import PCA\n",
    "class PCAModified:\n",
    "    predictors = None\n",
    "    predictors_pca = None\n",
    "    pca = None\n",
    "    def __init__(self,predictors):\n",
    "        self.predictors = predictors\n",
    "        self.pca = PCA(.95)\n",
    "    \n",
    "    def setVariance(var=.95):\n",
    "        self.pca = PCA(var)\n",
    "        \n",
    "    def reduceDimensions(self):\n",
    "        scaler = StandardScaler()\n",
    "        scaler.fit(predictors)\n",
    "        self.predictors_pca = scaler.transform(self.predictors)\n",
    "        self.pca.fit(self.predictors_pca)\n",
    "        self.predictors_pca = self.pca.transform(self.predictors_pca)\n",
    "        return self.predictors_pca"
   ]
  },
  {
   "cell_type": "code",
   "execution_count": 437,
   "metadata": {},
   "outputs": [],
   "source": [
    "class DecisionTreeModified:\n",
    "    confusion_matrix = None\n",
    "    precision = None\n",
    "    recall = None\n",
    "    roc_auc = None\n",
    "    predictors = None\n",
    "    response = None\n",
    "    classifier = None\n",
    "    fit = None\n",
    "    cv_scores = None\n",
    "    cv_folds = 10\n",
    "    start_time = None\n",
    "    summary = {}\n",
    "    \n",
    "    def __init__(self,predictors,response):\n",
    "        self.predictors = predictors\n",
    "        self.response = response\n",
    "    \n",
    "    def getSummary(self):\n",
    "        self.summary['fit'] = self.fit\n",
    "        self.summary['accuracy'] = self.cv_scores.mean()\n",
    "        self.summary['confusion_matrix'] = self.confusion_matrix\n",
    "        self.summary['precision'] = self.precision\n",
    "        self.summary['recall'] = self.recall\n",
    "        self.summary['roc_auc'] = self.roc_auc\n",
    "        self.summary['leaf_nodes'],self.summary['non_leaf_nodes'],self.summary['size'] = self.getNumberOfLeafNodes()\n",
    "        load_time = time.time() - self.start_time\n",
    "        self.summary['time_taken'] = \"%.4s seconds\" % (load_time)\n",
    "        return self.summary\n",
    "    \n",
    "    def getNumberOfLeafNodes(self):\n",
    "        tree = self.fit.tree_\n",
    "        children_left = tree.children_left\n",
    "        children_right = tree.children_right\n",
    "        n_nodes = tree.node_count\n",
    "        node_depth = np.zeros(shape=n_nodes, dtype=np.int64)\n",
    "        is_leaves = np.zeros(shape=n_nodes, dtype=bool)\n",
    "        stack = [(0, -1)]\n",
    "        while len(stack) > 0:\n",
    "            node_id, parent_depth = stack.pop()\n",
    "            node_depth[node_id] = parent_depth + 1\n",
    "            if (children_left[node_id] != children_right[node_id]):\n",
    "                stack.append((children_left[node_id], parent_depth + 1))\n",
    "                stack.append((children_right[node_id], parent_depth + 1))\n",
    "            else:\n",
    "                is_leaves[node_id] = True\n",
    "        return len(is_leaves[is_leaves==True]),len(is_leaves[is_leaves!=True]),n_nodes\n",
    "    \n",
    "    def calculateROCArea(self,y_prediction):\n",
    "        n_classes = len(self.fit.classes_)\n",
    "        for i in range(n_classes):\n",
    "            pos_label_ = self.fit.classes_[i]\n",
    "            fpr, tpr, _ = roc_curve(response,y_prediction,pos_label_)\n",
    "            roc_auc = auc(fpr, tpr)\n",
    "        return roc_auc/n_classes\n",
    "            \n",
    "    def trainClassifier(self,parameters={},labels=[\"'\\\\'(-inf-1.5]\\\\''\",\"'\\\\'(1.5-2.5]\\\\''\",\"'\\\\'(2.5-3.5]\\\\''\",\"'\\\\'(3.5-7.5]\\\\''\",\"'\\\\'(7.5-12]\\\\''\",\"'\\\\'(12-inf)\\\\''\"]):\n",
    "        self.start_time = time.time()\n",
    "        self.classifier = tree.DecisionTreeClassifier(**parameters)\n",
    "        self.fit = self.classifier.fit(self.predictors,self.response)\n",
    "        self.cv_scores = cross_val_score(estimator=self.classifier, X=self.predictors, y=self.response, cv=self.cv_folds)\n",
    "        y_prediction = cross_val_predict(estimator=self.classifier, X=self.predictors, y=self.response, cv=self.cv_folds)\n",
    "        self.confusion_matrix = confusion_matrix(response, y_prediction,labels)\n",
    "        self.precision = precision_score(response, y_prediction, average='macro')\n",
    "        self.recall = recall_score(response, y_prediction, average='macro')\n",
    "        #self.roc_auc = self.calculateROCArea(y_prediction)\n",
    "        return self.getSummary()\n",
    "    \n",
    "    def saveTree(self,filename):\n",
    "        dot_data = tree.export_graphviz(self.classifier, feature_names = self.predictors.columns, out_file=None) \n",
    "        graph = graphviz.Source(dot_data) \n",
    "        graph.render(filename)       "
   ]
  },
  {
   "cell_type": "markdown",
   "metadata": {},
   "source": [
    "# Experiments with no pre-processing"
   ]
  },
  {
   "cell_type": "code",
   "execution_count": 456,
   "metadata": {},
   "outputs": [],
   "source": [
    "absenteeism = pd.read_csv(r'D:\\WPI\\DS-Coursework\\CS548-KDD\\Homework\\HW2\\dataset\\Absenteeism_at_work_AAA\\Absenteeism_python.csv')\n",
    "predictors = absenteeism.iloc[:,0:17]\n",
    "response = absenteeism.iloc[:,17]\n",
    "dt_initial = DecisionTreeModified(predictors,response)"
   ]
  },
  {
   "cell_type": "code",
   "execution_count": 460,
   "metadata": {},
   "outputs": [
    {
     "data": {
      "text/plain": [
       "{'fit': DecisionTreeClassifier(class_weight=None, criterion='entropy', max_depth=6,\n",
       "             max_features=None, max_leaf_nodes=None,\n",
       "             min_impurity_decrease=0.0, min_impurity_split=None,\n",
       "             min_samples_leaf=15, min_samples_split=2,\n",
       "             min_weight_fraction_leaf=0.0, presort=False, random_state=1,\n",
       "             splitter='best'),\n",
       " 'accuracy': 0.4539836037756161,\n",
       " 'confusion_matrix': array([[ 56,  48,   0,   3,  24,   1],\n",
       "        [ 16,  87,  11,  15,  27,   1],\n",
       "        [ 15,  36,  14,  11,  32,   4],\n",
       "        [  8,  24,   3,  15,  17,   1],\n",
       "        [  6,  18,   5,  10, 154,  15],\n",
       "        [  0,   3,   4,   1,  45,  10]], dtype=int64),\n",
       " 'precision': 0.4059815069420106,\n",
       " 'recall': 0.3705142601733085,\n",
       " 'roc_auc': None,\n",
       " 'leaf_nodes': 25,\n",
       " 'non_leaf_nodes': 24,\n",
       " 'size': 49,\n",
       " 'time_taken': '0.08 seconds'}"
      ]
     },
     "execution_count": 460,
     "metadata": {},
     "output_type": "execute_result"
    }
   ],
   "source": [
    "summary = dt_initial.trainClassifier({'criterion':'entropy','random_state':1,'min_samples_leaf':15,'max_depth':6})\n",
    "summary"
   ]
  },
  {
   "cell_type": "code",
   "execution_count": 461,
   "metadata": {},
   "outputs": [
    {
     "data": {
      "text/plain": [
       "array([\"'\\\\'(-inf-1.5]\\\\''\", \"'\\\\'(1.5-2.5]\\\\''\", \"'\\\\'(12-inf)\\\\''\",\n",
       "       \"'\\\\'(2.5-3.5]\\\\''\", \"'\\\\'(3.5-7.5]\\\\''\", \"'\\\\'(7.5-12]\\\\''\"],\n",
       "      dtype=object)"
      ]
     },
     "execution_count": 461,
     "metadata": {},
     "output_type": "execute_result"
    }
   ],
   "source": [
    "dt_initial.saveTree('absenteeism')\n",
    "dt_initial.fit.classes_"
   ]
  },
  {
   "cell_type": "code",
   "execution_count": 462,
   "metadata": {},
   "outputs": [
    {
     "data": {
      "text/plain": [
       "array([[ 56,  48,   0,   3,  24,   1],\n",
       "       [ 16,  87,  11,  15,  27,   1],\n",
       "       [ 15,  36,  14,  11,  32,   4],\n",
       "       [  8,  24,   3,  15,  17,   1],\n",
       "       [  6,  18,   5,  10, 154,  15],\n",
       "       [  0,   3,   4,   1,  45,  10]], dtype=int64)"
      ]
     },
     "execution_count": 462,
     "metadata": {},
     "output_type": "execute_result"
    }
   ],
   "source": [
    "summary['confusion_matrix']"
   ]
  },
  {
   "cell_type": "markdown",
   "metadata": {},
   "source": [
    "# Experiments with One hot encoding for 'Reason for absence'"
   ]
  },
  {
   "cell_type": "code",
   "execution_count": 464,
   "metadata": {},
   "outputs": [],
   "source": [
    "absenteeism_enc = oneHotEncodeRFA('Reason_for_absence',absenteeism)"
   ]
  },
  {
   "cell_type": "code",
   "execution_count": 465,
   "metadata": {},
   "outputs": [],
   "source": [
    "predictors = absenteeism_enc.iloc[:,0:21]\n",
    "response = absenteeism_enc.iloc[:,21]\n",
    "dt_next = DecisionTreeModified(predictors,response)"
   ]
  },
  {
   "cell_type": "code",
   "execution_count": 466,
   "metadata": {},
   "outputs": [
    {
     "data": {
      "text/plain": [
       "{'fit': DecisionTreeClassifier(class_weight=None, criterion='entropy', max_depth=5,\n",
       "             max_features=10, max_leaf_nodes=None,\n",
       "             min_impurity_decrease=0.0, min_impurity_split=None,\n",
       "             min_samples_leaf=1, min_samples_split=2,\n",
       "             min_weight_fraction_leaf=0.0, presort=False, random_state=2,\n",
       "             splitter='best'),\n",
       " 'accuracy': 0.32329011823513076,\n",
       " 'confusion_matrix': array([[ 57,  31,  13,   2,  26,   3],\n",
       "        [ 24,  51,  29,   6,  42,   5],\n",
       "        [ 14,  44,  12,   4,  37,   1],\n",
       "        [  7,  19,   6,  10,  24,   2],\n",
       "        [ 20,  52,  18,   7, 106,   5],\n",
       "        [ 11,  17,   6,   2,  24,   3]], dtype=int64),\n",
       " 'precision': 0.283248019951287,\n",
       " 'recall': 0.26134917650934886,\n",
       " 'roc_auc': None,\n",
       " 'leaf_nodes': 17,\n",
       " 'non_leaf_nodes': 16,\n",
       " 'size': 33,\n",
       " 'time_taken': '0.06 seconds'}"
      ]
     },
     "execution_count": 466,
     "metadata": {},
     "output_type": "execute_result"
    }
   ],
   "source": [
    "summary = dt_next.trainClassifier({'criterion':'entropy','random_state':2,'max_features':10,'max_depth':5})\n",
    "summary"
   ]
  },
  {
   "cell_type": "code",
   "execution_count": 14,
   "metadata": {},
   "outputs": [],
   "source": [
    "dt_next.saveTree('absenteeism_enc')"
   ]
  },
  {
   "cell_type": "markdown",
   "metadata": {},
   "source": [
    "# Experiment with Subset of features"
   ]
  },
  {
   "cell_type": "code",
   "execution_count": 493,
   "metadata": {},
   "outputs": [],
   "source": [
    "absenteeism_sub = pd.read_csv(r'D:\\WPI\\DS-Coursework\\CS548-KDD\\Homework\\HW2\\dataset\\Absenteeism_at_work_AAA\\Absenteeism_python.csv')\n",
    "absenteeism_sub = absenteeism_sub.drop(['Service_time','Education','Hit_target','Social_drinker','Social_smoker','Pet','Height','Body_mass_index'],1)\n",
    "predictors = absenteeism_sub.iloc[:,0:9]\n",
    "response = absenteeism_sub.iloc[:,9]\n",
    "dt_subset = DecisionTreeModified(predictors,response)"
   ]
  },
  {
   "cell_type": "code",
   "execution_count": 494,
   "metadata": {},
   "outputs": [
    {
     "data": {
      "text/plain": [
       "{'fit': DecisionTreeClassifier(class_weight=None, criterion='entropy', max_depth=None,\n",
       "             max_features=None, max_leaf_nodes=None,\n",
       "             min_impurity_decrease=0.0, min_impurity_split=None,\n",
       "             min_samples_leaf=10, min_samples_split=2,\n",
       "             min_weight_fraction_leaf=0.02, presort=False, random_state=2,\n",
       "             splitter='best'),\n",
       " 'accuracy': 0.42289222659394377,\n",
       " 'confusion_matrix': array([[ 65,  36,   9,   4,  15,   3],\n",
       "        [ 27,  65,  26,  18,  20,   1],\n",
       "        [ 14,  31,  22,  15,  24,   6],\n",
       "        [ 12,  15,  10,  15,  16,   0],\n",
       "        [  6,  21,  20,   9, 134,  18],\n",
       "        [  2,   0,   8,   1,  40,  12]], dtype=int64),\n",
       " 'precision': 0.36907413657648896,\n",
       " 'recall': 0.35969345795123236,\n",
       " 'roc_auc': None,\n",
       " 'leaf_nodes': 35,\n",
       " 'non_leaf_nodes': 34,\n",
       " 'size': 69,\n",
       " 'time_taken': '0.07 seconds'}"
      ]
     },
     "execution_count": 494,
     "metadata": {},
     "output_type": "execute_result"
    }
   ],
   "source": [
    "summary = dt_subset.trainClassifier({'criterion':'entropy','random_state':2,'min_samples_leaf':10,'min_weight_fraction_leaf':0.02})\n",
    "summary"
   ]
  },
  {
   "cell_type": "code",
   "execution_count": 495,
   "metadata": {},
   "outputs": [],
   "source": [
    "dt_subset.saveTree('absenteeism_sub')"
   ]
  },
  {
   "cell_type": "markdown",
   "metadata": {},
   "source": [
    "# Experiments with subset & One hot encoding for RFA"
   ]
  },
  {
   "cell_type": "code",
   "execution_count": 171,
   "metadata": {},
   "outputs": [],
   "source": [
    "absenteeism_sub = absenteeism_enc\n",
    "absenteeism_sub = absenteeism_sub.drop(['Service_time','Hit_target','Education','Social_drinker','Social_smoker','Pet','Height','Body_mass_index'],1)\n",
    "predictors = absenteeism_sub.iloc[:,0:13]\n",
    "response = absenteeism_sub.iloc[:,13]\n",
    "dt_subenc = DecisionTreeModified(predictors,response)"
   ]
  },
  {
   "cell_type": "code",
   "execution_count": 207,
   "metadata": {},
   "outputs": [
    {
     "data": {
      "text/plain": [
       "{'fit': DecisionTreeClassifier(class_weight=None, criterion='entropy', max_depth=5,\n",
       "             max_features=10, max_leaf_nodes=None,\n",
       "             min_impurity_decrease=0.0, min_impurity_split=None,\n",
       "             min_samples_leaf=1, min_samples_split=2,\n",
       "             min_weight_fraction_leaf=0.0, presort=False, random_state=2,\n",
       "             splitter='best'),\n",
       " 'accuracy': 0.3711618473702209,\n",
       " 'confusion_matrix': array([[ 48,  45,   8,   8,  21,   2],\n",
       "        [ 13,  71,  14,   8,  46,   5],\n",
       "        [ 14,  48,   5,   2,  41,   2],\n",
       "        [ 12,  18,   3,   3,  31,   1],\n",
       "        [  9,  39,   2,   8, 141,   9],\n",
       "        [  2,  13,   3,   2,  36,   7]], dtype=int64),\n",
       " 'leaf_nodes': 17,\n",
       " 'non_leaf_nodes': 16,\n",
       " 'size': 33}"
      ]
     },
     "execution_count": 207,
     "metadata": {},
     "output_type": "execute_result"
    }
   ],
   "source": [
    "summary = dt_subenc.trainClassifier({'criterion':'entropy','random_state':2,'max_features':10,'max_depth':5})\n",
    "summary"
   ]
  },
  {
   "cell_type": "code",
   "execution_count": 209,
   "metadata": {},
   "outputs": [],
   "source": [
    "dt_subenc.saveTree('absenteeism_subenc')"
   ]
  },
  {
   "cell_type": "markdown",
   "metadata": {},
   "source": [
    "# Experiments with PCA"
   ]
  },
  {
   "cell_type": "code",
   "execution_count": 368,
   "metadata": {},
   "outputs": [],
   "source": [
    "absenteeism = pd.read_csv(r'D:\\WPI\\DS-Coursework\\CS548-KDD\\Homework\\HW2\\dataset\\Absenteeism_at_work_AAA\\Absenteeism_python.csv')\n",
    "predictors = absenteeism.iloc[:,0:17]\n",
    "response = absenteeism.iloc[:,17]\n",
    "pca_initial = PCAModified(predictors)\n",
    "absenteeism_pca = pca_initial.reduceDimensions()"
   ]
  },
  {
   "cell_type": "code",
   "execution_count": 369,
   "metadata": {},
   "outputs": [],
   "source": [
    "absenteeism_pca_df = pd.DataFrame(data=absenteeism_pca)"
   ]
  },
  {
   "cell_type": "code",
   "execution_count": 370,
   "metadata": {},
   "outputs": [],
   "source": [
    "dt_pca = DecisionTreeModified(absenteeism_pca_df,response)"
   ]
  },
  {
   "cell_type": "code",
   "execution_count": 376,
   "metadata": {},
   "outputs": [
    {
     "data": {
      "text/plain": [
       "{'fit': DecisionTreeClassifier(class_weight=None, criterion='entropy', max_depth=10,\n",
       "             max_features=None, max_leaf_nodes=None,\n",
       "             min_impurity_decrease=0.0, min_impurity_split=None,\n",
       "             min_samples_leaf=15, min_samples_split=2,\n",
       "             min_weight_fraction_leaf=0.0, presort=False, random_state=2,\n",
       "             splitter='best'),\n",
       " 'accuracy': 0.2949166537713711,\n",
       " 'confusion_matrix': array([[30, 28, 15,  5, 44, 10],\n",
       "        [25, 60, 14, 20, 34,  4],\n",
       "        [17, 32, 15, 15, 24,  9],\n",
       "        [10, 17,  9, 11, 20,  1],\n",
       "        [35, 42,  9, 14, 89, 19],\n",
       "        [ 7,  5,  5,  7, 26, 13]], dtype=int64),\n",
       " 'leaf_nodes': 36,\n",
       " 'non_leaf_nodes': 35,\n",
       " 'size': 71}"
      ]
     },
     "execution_count": 376,
     "metadata": {},
     "output_type": "execute_result"
    }
   ],
   "source": [
    "summary = dt_pca.trainClassifier({'criterion':'entropy','random_state':2,'min_samples_leaf':15,'max_depth':10})\n",
    "summary"
   ]
  },
  {
   "cell_type": "code",
   "execution_count": 233,
   "metadata": {},
   "outputs": [
    {
     "data": {
      "text/plain": [
       "array([[ 28,  26,  12,   4,  59,   3],\n",
       "       [ 13,  62,  17,  16,  48,   1],\n",
       "       [ 18,  26,  20,  11,  35,   2],\n",
       "       [  6,  17,   7,  11,  27,   0],\n",
       "       [ 29,  44,   6,  18, 109,   2],\n",
       "       [  7,   6,   4,   8,  36,   2]], dtype=int64)"
      ]
     },
     "execution_count": 233,
     "metadata": {},
     "output_type": "execute_result"
    }
   ],
   "source": [
    "summary['confusion_matrix']"
   ]
  },
  {
   "cell_type": "code",
   "execution_count": 234,
   "metadata": {},
   "outputs": [],
   "source": [
    "dt_pca.saveTree('absenteeism_pca')"
   ]
  },
  {
   "cell_type": "markdown",
   "metadata": {},
   "source": [
    "# Experiments with different discretization of target"
   ]
  },
  {
   "cell_type": "code",
   "execution_count": 507,
   "metadata": {},
   "outputs": [],
   "source": [
    "absenteeism = pd.read_csv(r'D:\\WPI\\DS-Coursework\\CS548-KDD\\Homework\\HW2\\dataset\\Absenteeism_at_work_AAA\\Absenteeism_lvl0.csv')\n",
    "predictors = absenteeism.iloc[:,0:17]\n",
    "response = absenteeism.iloc[:,17]\n",
    "response = discretizeAttr(response,4)"
   ]
  },
  {
   "cell_type": "code",
   "execution_count": 508,
   "metadata": {},
   "outputs": [
    {
     "data": {
      "text/plain": [
       "array(['(3.0, 8.0]', '(-0.001, 2.0]', '(8.0, 120.0]', '(2.0, 3.0]'],\n",
       "      dtype=object)"
      ]
     },
     "execution_count": 508,
     "metadata": {},
     "output_type": "execute_result"
    }
   ],
   "source": [
    "response.unique()"
   ]
  },
  {
   "cell_type": "code",
   "execution_count": 509,
   "metadata": {},
   "outputs": [],
   "source": [
    "dt_disc = DecisionTreeModified(predictors,response)"
   ]
  },
  {
   "cell_type": "code",
   "execution_count": 513,
   "metadata": {},
   "outputs": [
    {
     "data": {
      "text/plain": [
       "{'fit': DecisionTreeClassifier(class_weight=None, criterion='entropy', max_depth=None,\n",
       "             max_features=None, max_leaf_nodes=None,\n",
       "             min_impurity_decrease=0.0, min_impurity_split=None,\n",
       "             min_samples_leaf=7, min_samples_split=2,\n",
       "             min_weight_fraction_leaf=0.0, presort=False, random_state=2,\n",
       "             splitter='best'),\n",
       " 'accuracy': 0.5223304061090651,\n",
       " 'confusion_matrix': array([[  0,   0,   0,   0,   0],\n",
       "        [  0,   0,   0,   0,   0],\n",
       "        [  0,   0,  23,  46,   4],\n",
       "        [  0,   0,  27, 159,  28],\n",
       "        [  0,   0,   7,  31,  14]], dtype=int64),\n",
       " 'precision': 0.4254106330004327,\n",
       " 'recall': 0.4161414938950858,\n",
       " 'roc_auc': None,\n",
       " 'leaf_nodes': 73,\n",
       " 'non_leaf_nodes': 72,\n",
       " 'size': 145,\n",
       " 'time_taken': '0.09 seconds'}"
      ]
     },
     "execution_count": 513,
     "metadata": {},
     "output_type": "execute_result"
    }
   ],
   "source": [
    "summary = dt_disc.trainClassifier({'criterion':'entropy','random_state':2,'min_samples_leaf':7},['(-0.001, 1.0]','(1.0, 2.0]','(2.0, 3.0]','(3.0, 8.0]','(8.0, 120.0]'])\n",
    "summary"
   ]
  },
  {
   "cell_type": "code",
   "execution_count": 500,
   "metadata": {},
   "outputs": [],
   "source": [
    "dt_disc.saveTree('absenteeism_disc')"
   ]
  },
  {
   "cell_type": "markdown",
   "metadata": {},
   "source": [
    "# Experiments after combining records of particular employee"
   ]
  },
  {
   "cell_type": "code",
   "execution_count": 288,
   "metadata": {},
   "outputs": [],
   "source": [
    "absenteeism_lvl0 = pd.read_csv(r'D:\\WPI\\DS-Coursework\\CS548-KDD\\Homework\\HW2\\dataset\\Absenteeism_at_work_AAA\\Absenteeism_lvl0_0.csv')"
   ]
  },
  {
   "cell_type": "code",
   "execution_count": 338,
   "metadata": {},
   "outputs": [],
   "source": [
    "n = int(max(absenteeism_lvl0['ID'])-1)\n",
    "emp_list = []\n",
    "for id in range(n+1):\n",
    "    frame_ = absenteeism_lvl0[absenteeism_lvl0['ID']==id+1]\n",
    "    transport = frame_['Transportation_expense'].mean()\n",
    "    dfrw = frame_['Distance_from_Residence_to_Work'].mean()\n",
    "    age = frame_['Age'].mean()\n",
    "    wla = frame_['Work_load_Average/day_'].mean()\n",
    "    dfail = frame_['Disciplinary_failure'].mean()\n",
    "    edu = frame_['Education'].mean()\n",
    "    child = frame_['Son'].mean()\n",
    "    social_drinker = frame_['Social_drinker'].mean()\n",
    "    social_smoker = frame_['Social_smoker'].mean()\n",
    "    pet = frame_['Social_smoker'].mean()\n",
    "    height = frame_['Height'].mean()\n",
    "    bmi = frame_['Body_mass_index'].mean()\n",
    "    abs_in_hr = frame_['Absenteeism_time_in_hours'].sum()\n",
    "    emp_list.append([id+1,transport,dfrw,age,wla,dfail,edu,child,social_drinker,social_smoker,pet,height,bmi,abs_in_hr])"
   ]
  },
  {
   "cell_type": "code",
   "execution_count": 339,
   "metadata": {},
   "outputs": [],
   "source": [
    "absenteeism_emp = pd.DataFrame(data=emp_list,columns=['id','Transport','Dfrw','age','wla','dfail','edu','child','social_drinker','social_smoker','pet','height','bmi','absenteeism'])"
   ]
  },
  {
   "cell_type": "code",
   "execution_count": 357,
   "metadata": {},
   "outputs": [
    {
     "data": {
      "text/plain": [
       "array(['(30.667, 184.0]', '(-0.001, 30.667]', '(184.0, 482.0]'],\n",
       "      dtype=object)"
      ]
     },
     "execution_count": 357,
     "metadata": {},
     "output_type": "execute_result"
    }
   ],
   "source": [
    "predictors = absenteeism_emp.iloc[:,0:13]\n",
    "response = absenteeism_emp.iloc[:,13]\n",
    "response = discretizeAttr(response,3)\n",
    "predictors = predictors.drop('id',1)\n",
    "response.unique()"
   ]
  },
  {
   "cell_type": "code",
   "execution_count": 358,
   "metadata": {},
   "outputs": [],
   "source": [
    "dt_emp = DecisionTreeModified(predictors,response)"
   ]
  },
  {
   "cell_type": "code",
   "execution_count": 361,
   "metadata": {},
   "outputs": [
    {
     "data": {
      "text/plain": [
       "{'fit': DecisionTreeClassifier(class_weight=None, criterion='entropy', max_depth=None,\n",
       "             max_features=None, max_leaf_nodes=None,\n",
       "             min_impurity_decrease=0.0, min_impurity_split=None,\n",
       "             min_samples_leaf=1, min_samples_split=2,\n",
       "             min_weight_fraction_leaf=0.0, presort=False, random_state=2,\n",
       "             splitter='best'),\n",
       " 'accuracy': 0.35,\n",
       " 'confusion_matrix': array([[4, 5, 3],\n",
       "        [7, 3, 2],\n",
       "        [3, 3, 6]], dtype=int64),\n",
       " 'leaf_nodes': 14,\n",
       " 'non_leaf_nodes': 13,\n",
       " 'size': 27}"
      ]
     },
     "execution_count": 361,
     "metadata": {},
     "output_type": "execute_result"
    }
   ],
   "source": [
    "summary = dt_emp.trainClassifier({'criterion':'entropy','random_state':2},labels=['(-0.001, 30.667]', '(30.667, 184.0]', '(184.0, 482.0]'])\n",
    "summary"
   ]
  },
  {
   "cell_type": "code",
   "execution_count": 362,
   "metadata": {},
   "outputs": [],
   "source": [
    "dt_emp.saveTree('absenteeism_emp')"
   ]
  },
  {
   "cell_type": "code",
   "execution_count": null,
   "metadata": {},
   "outputs": [],
   "source": []
  }
 ],
 "metadata": {
  "kernelspec": {
   "display_name": "Python 3",
   "language": "python",
   "name": "python3"
  },
  "language_info": {
   "codemirror_mode": {
    "name": "ipython",
    "version": 3
   },
   "file_extension": ".py",
   "mimetype": "text/x-python",
   "name": "python",
   "nbconvert_exporter": "python",
   "pygments_lexer": "ipython3",
   "version": "3.6.5"
  }
 },
 "nbformat": 4,
 "nbformat_minor": 2
}
